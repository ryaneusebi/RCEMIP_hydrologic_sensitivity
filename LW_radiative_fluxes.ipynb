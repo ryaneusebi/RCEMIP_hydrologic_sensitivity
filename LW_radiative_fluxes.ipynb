{
 "cells": [
  {
   "cell_type": "code",
   "execution_count": 1,
   "id": "08c70077-e6d4-44b8-b5af-7f1e7a378b7d",
   "metadata": {},
   "outputs": [],
   "source": [
    "import numpy as np\n",
    "import xarray as xr\n",
    "import matplotlib.pyplot as plt\n",
    "from glob import glob\n",
    "import os\n",
    "import pandas as pd"
   ]
  },
  {
   "cell_type": "code",
   "execution_count": 2,
   "id": "7ba5c492-0a48-41e2-b695-1346f95bd7fb",
   "metadata": {},
   "outputs": [],
   "source": [
    "L = 2.5e6\n",
    "pconst = L/1000/86400*997"
   ]
  },
  {
   "cell_type": "code",
   "execution_count": 3,
   "id": "1e369446-a22b-4611-a16b-65982585a487",
   "metadata": {},
   "outputs": [],
   "source": [
    "models = ['CAM5_GCM',\n",
    " 'CAM6_GCM',\n",
    " 'CM1',\n",
    " 'CNRM-CM6-1',\n",
    " 'ECHAM6_GCM',\n",
    " 'GEOS_GCM',\n",
    " 'ICON_GCM',\n",
    " 'ICON_LEM_CRM',\n",
    " 'ICON_NWP_CRM',\n",
    " 'MESONH',\n",
    " 'MPAS',\n",
    " 'NICAM',\n",
    " 'SCALE',\n",
    " 'UCLA-CRM']"
   ]
  },
  {
   "cell_type": "code",
   "execution_count": 6,
   "id": "def57ebe-a3d6-4e18-923a-b30d42532cc8",
   "metadata": {},
   "outputs": [],
   "source": [
    "def get_rad(models, type = 'rl', sst=300, size='large'):\n",
    "    \"\"\"\n",
    "    size: 'small' or 'large'\n",
    "     sst: 295, 300, or 305\n",
    "    type: 'rl' or 'rs' for LW and SW respectively\n",
    "    \"\"\"\n",
    "    \n",
    "    pwd = \"/home/tompkins-archive/tompkins/smr3952/RCEMIP/data\"\n",
    "    fnames = sorted(glob(f'{pwd}/*'))[2:]\n",
    "    rlut_list = []\n",
    "    rlutcs_list = []\n",
    "    rlus_list = []\n",
    "    rluscs_list = []\n",
    "    \n",
    "    for fname in fnames:\n",
    "        model = fname.split('/')[-1]\n",
    "        if model not in models:\n",
    "            continue\n",
    "        path1 = f'{pwd}/{model}'\n",
    "        flist = glob(f'{path1}/*')\n",
    "        fname = None\n",
    "        fname_cs = None\n",
    "        for fli in flist:\n",
    "            if size in fli and str(sst) in fli:\n",
    "                fname = fli\n",
    "        flist = glob(f'{fname}/0D/*.nc')\n",
    "        try:\n",
    "            ds = xr.open_mfdataset(flist, combine='by_coords', compat='override', decode_times=False)\n",
    "            ds = ds.isel(time=slice(len(ds.time.values)//5,None))\n",
    "            ds = ds.mean('time')\n",
    "        except:\n",
    "            print(model, 'error')\n",
    "            continue\n",
    "    \n",
    "        if f'{type}ut_avg' in list(ds.variables):\n",
    "            rlut = ds[f'{type}ut_avg']\n",
    "            rlus = ds[f'{type}us_avg']\n",
    "            try:\n",
    "                rlutcs = ds[f'{type}utcs_avg']\n",
    "                rluscs = ds[f'{type}uscs_avg']\n",
    "            except:\n",
    "                continue\n",
    "        elif f'{type}ut' in list(ds.variables):\n",
    "            rlut = ds[f'{type}ut']\n",
    "            rlus = ds[f'{type}us']\n",
    "            try:\n",
    "                rlutcs = ds[f'{type}utcs']\n",
    "                rluscs = ds[f'{type}uscs']\n",
    "            except:\n",
    "                continue\n",
    "        else:\n",
    "            continue\n",
    "    \n",
    "        rlut_list.append(rlut.values.item())\n",
    "        rlutcs_list.append(rlutcs.values.item())\n",
    "        rlus_list.append(rlus.values.item())\n",
    "        rluscs_list.append(rluscs.values.item())\n",
    "        if rluscs_list[-1] < 30:\n",
    "            rluscs_list[-1] = rlus_list[-1]\n",
    "        # print(model, np.round(rlut_list[-1]), np.round(rlus_list[-1]), np.round(rlutcs_list[-1]), np.round(rluscs_list[-1]))\n",
    "    \n",
    "    \n",
    "    rlut = np.array(rlut_list)\n",
    "    rlutcs = np.array(rlutcs_list)\n",
    "    rlus = np.array(rlus_list)\n",
    "    rluscs = np.array(rluscs_list)\n",
    "    \n",
    "    return rlut, rlutcs, rlus, rluscs"
   ]
  },
  {
   "cell_type": "code",
   "execution_count": 8,
   "id": "fec7650c-b849-4f20-8c47-68aa539da06d",
   "metadata": {},
   "outputs": [],
   "source": [
    "rlut, rlutcs, rlus, rluscs = get_rl(models, type='rl', sst=300, size='large')\n",
    "all_dif = rlut - rlus\n",
    "cs_dif = rlutcs - rluscs"
   ]
  },
  {
   "cell_type": "code",
   "execution_count": 135,
   "id": "166b4e02-ede4-49d0-893e-f96b4db2ba1a",
   "metadata": {},
   "outputs": [],
   "source": [
    "data = pd.read_csv(\"/home/tompkins-archive/tompkins/smr3952/RCEMIP/data/A-Statistics/0D/Table_A2_RCE_large300.csv\")\n",
    "data_305 = pd.read_csv(\"/home/tompkins-archive/tompkins/smr3952/RCEMIP/data/A-Statistics/0D/Table_A2_RCE_large305.csv\")"
   ]
  },
  {
   "cell_type": "code",
   "execution_count": 136,
   "id": "483173c4-2aa8-46f6-aa91-0b0d1a6719d3",
   "metadata": {},
   "outputs": [],
   "source": [
    "p = np.array([data['Precip.'][data.Model==model.replace('_','-').replace('-1','')].item() for model in models[:-4]])\n",
    "type = np.array([data['Unnamed: 1'][data.Model==model.replace('_','-').replace('-1','')].item() for model in models[:-4]])"
   ]
  },
  {
   "cell_type": "code",
   "execution_count": 137,
   "id": "1401596d-45f2-4ee5-8fcc-8ffb33e0e3e6",
   "metadata": {},
   "outputs": [
    {
     "data": {
      "text/plain": [
       "array([], dtype='<U12')"
      ]
     },
     "execution_count": 137,
     "metadata": {},
     "output_type": "execute_result"
    },
    {
     "data": {
      "image/png": "[encoded data removed]",
      "text/plain": [
       "<Figure size 640x480 with 1 Axes>"
      ]
     },
     "metadata": {},
     "output_type": "display_data"
    }
   ],
   "source": [
    "plt.scatter(all_dif[:-4], cs_dif[:-4], c=p)\n",
    "np.array(models)[cs_dif>0]"
   ]
  },
  {
   "cell_type": "code",
   "execution_count": 139,
   "id": "d9fdc04f-1ae1-434d-9bfb-37542ffdd308",
   "metadata": {},
   "outputs": [
    {
     "data": {
      "text/plain": [
       "Text(0.5, 1.0, 'LWCRE and P in 300K simulations')"
      ]
     },
     "execution_count": 139,
     "metadata": {},
     "output_type": "execute_result"
    },
    {
     "data": {
      "image/png": "[encoded data removed]",
      "text/plain": [
       "<Figure size 640x480 with 1 Axes>"
      ]
     },
     "metadata": {},
     "output_type": "display_data"
    }
   ],
   "source": [
    "# column realtive humidity\n",
    "type_c = ['red' if t==\"P\" else \"blue\" for t in type]\n",
    "plt.scatter(all_dif[:-4] - cs_dif[:-4], p*pconst, c=type_c)\n",
    "plt.xlabel(\"LWCRE\")\n",
    "plt.ylabel(\"Precipitation Radiative Flux\")\n",
    "plt.title('LWCRE and P in 300K simulations')"
   ]
  },
  {
   "cell_type": "code",
   "execution_count": 113,
   "id": "716c8378-6ac8-46f3-9a9e-9740970e5e76",
   "metadata": {},
   "outputs": [],
   "source": []
  }
 ],
 "metadata": {
  "kernelspec": {
   "display_name": "Python 3 (ipykernel)",
   "language": "python",
   "name": "python3"
  },
  "language_info": {
   "codemirror_mode": {
    "name": "ipython",
    "version": 3
   },
   "file_extension": ".py",
   "mimetype": "text/x-python",
   "name": "python",
   "nbconvert_exporter": "python",
   "pygments_lexer": "ipython3",
   "version": "3.12.4"
  }
 },
 "nbformat": 4,
 "nbformat_minor": 5
}
