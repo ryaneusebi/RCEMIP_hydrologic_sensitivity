{
 "cells": [
  {
   "cell_type": "code",
   "execution_count": null,
   "metadata": {},
   "outputs": [],
   "source": [
    "import xarray as xr\n",
    "import numpy as np\n",
    "import matplotlib.pyplot as plt\n",
    "\n",
    "# get all files in the directory RCE_large:\n",
    "import os\n",
    "files = os.listdir('RCE_large')\n",
    "files = [f for f in files if f.endswith('.nc')]\n",
    "files.sort()\n",
    "\n",
    "#print all cloud-resolving models:\n",
    "filtered_295 = [f for f in files if '295' in f and 'CRM' in f and 'cfv1-cfv2' in f]\n",
    "filtered_300 = [f for f in files if '300' in f and 'CRM' in f and 'cfv1-cfv2' in f]\n",
    "filtered_305 = [f for f in files if '305' in f and 'CRM' in f and 'cfv1-cfv2' in f]\n",
    "# for f in filtered_300:\n",
    "#      print(f)"
   ]
  },
  {
   "cell_type": "code",
   "execution_count": null,
   "metadata": {},
   "outputs": [],
   "source": [
    "var = 'ta_avg'\n",
    "\n",
    "fig, axs = plt.subplots(1, 1, figsize=(8, 8))\n",
    "for f in filtered_300:\n",
    "    name = f.split('_')[0]\n",
    "    ds = xr.open_dataset('RCE_large/'+f)\n",
    "    ds[var].plot(y='zg_avg',ax = axs,label = name)\n",
    "axs.legend()"
   ]
  },
  {
   "cell_type": "code",
   "execution_count": null,
   "metadata": {},
   "outputs": [],
   "source": [
    "var = 'ta_avg'\n",
    "\n",
    "fig, axs = plt.subplots(1, 1, figsize=(8, 8))\n",
    "for f in filtered_300:\n",
    "    name = f.split('_')[0]\n",
    "    ds = xr.open_dataset('RCE_large/'+f)\n",
    "    ds[var].plot(y='zg_avg',ax = axs,label = name)\n",
    "axs.legend()"
   ]
  },
  {
   "cell_type": "code",
   "execution_count": null,
   "metadata": {},
   "outputs": [],
   "source": [
    "var = 'tw_avg'\n",
    "\n",
    "fig, axs = plt.subplots(1, 1, figsize=(8, 8))\n",
    "for f in filtered:\n",
    "    name = f.split('_')[0]\n",
    "    ds = xr.open_dataset('RCE_large/'+f)\n",
    "    ds[var].plot(y='zg_avg',ax = axs,label = name)\n",
    "axs.set_ylim([0,15])\n",
    "axs.legend()"
   ]
  },
  {
   "cell_type": "code",
   "execution_count": null,
   "metadata": {},
   "outputs": [],
   "source": [
    "var = 'cfv2_avg'\n",
    "max_height = 17 #km\n",
    "\n",
    "fig, axs = plt.subplots(1, 1, figsize=(8, 8))\n",
    "for f in filtered:\n",
    "    name = f.split('_')[0]\n",
    "    ds = xr.open_dataset('RCE_large/'+f)\n",
    "    ds[var].plot(y='zg_avg',ax = axs,label = name)\n",
    "axs.legend()\n",
    "axs.set_ylim([0,max_height])"
   ]
  },
  {
   "cell_type": "code",
   "execution_count": null,
   "metadata": {},
   "outputs": [],
   "source": [
    "var = 'cfv2_avg'\n",
    "max_height = 17 #km\n",
    "\n",
    "fig, axs = plt.subplots(1, 1, figsize=(8, 8))\n",
    "for f in filtered_300:\n",
    "    name = f.split('_')[0]\n",
    "    ds = xr.open_dataset('RCE_large/'+f)\n",
    "    ds[var].plot(y='zg_avg',ax = axs,label = name+'_295',color='blue')\n",
    "for f in filtered_295:\n",
    "    name = f.split('_')[0]\n",
    "    ds = xr.open_dataset('RCE_large/'+f)\n",
    "    ds[var].plot(y='zg_avg',ax = axs,label = name+'_300',color='green')\n",
    "for f in filtered_305:\n",
    "    name = f.split('_')[0]\n",
    "    ds = xr.open_dataset('RCE_large/'+f)\n",
    "    ds[var].plot(y='zg_avg',ax = axs,label = name+'_305',color='red')\n",
    "axs.legend()\n",
    "axs.set_ylim([0,max_height])"
   ]
  }
 ],
 "metadata": {
  "kernelspec": {
   "display_name": "Python 3",
   "language": "python",
   "name": "python3"
  },
  "language_info": {
   "codemirror_mode": {
    "name": "ipython",
    "version": 3
   },
   "file_extension": ".py",
   "mimetype": "text/x-python",
   "name": "python",
   "nbconvert_exporter": "python",
   "pygments_lexer": "ipython3",
   "version": "3.8.10"
  }
 },
 "nbformat": 4,
 "nbformat_minor": 4
}
